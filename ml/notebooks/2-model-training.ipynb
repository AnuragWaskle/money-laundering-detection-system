{
 "cells": [
  {
   "cell_type": "code",
   "execution_count": null,
   "id": "11a8c8fc",
   "metadata": {
    "vscode": {
     "languageId": "plaintext"
    }
   },
   "outputs": [],
   "source": [
    "import pandas as pd\n",
    "import numpy as np\n",
    "import matplotlib.pyplot as plt\n",
    "import seaborn as sns\n",
    "from sklearn.model_selection import train_test_split\n",
    "from sklearn.preprocessing import StandardScaler\n",
    "from sklearn.metrics import classification_report, confusion_matrix, roc_auc_score, precision_recall_curve, auc\n",
    "from imblearn.over_sampling import SMOTE\n",
    "import xgboost as xgb\n",
    "import joblib"
   ]
  },
  {
   "cell_type": "code",
   "execution_count": null,
   "id": "2683e81a",
   "metadata": {
    "vscode": {
     "languageId": "plaintext"
    }
   },
   "outputs": [],
   "source": [
    "# Set visualization styles\n",
    "sns.set_style(\"whitegrid\")\n",
    "print(\"Libraries imported successfully.\")"
   ]
  },
  {
   "cell_type": "markdown",
   "id": "e48aa58e",
   "metadata": {},
   "source": [
    "Load the Dataset"
   ]
  },
  {
   "cell_type": "code",
   "execution_count": null,
   "id": "9af642b4",
   "metadata": {
    "vscode": {
     "languageId": "plaintext"
    }
   },
   "outputs": [],
   "source": [
    "try:\n",
    "    df = pd.read_csv('../data/raw/PS_20174392719_1491204439457_log.csv')\n",
    "    print(\"Dataset loaded successfully.\")\n",
    "    print(f\"Original dataset shape: {df.shape}\")\n",
    "except FileNotFoundError:\n",
    "    print(\"Error: Dataset file not found. Make sure it's in the 'ml/data/raw/' directory.\")\n",
    "    df = None"
   ]
  },
  {
   "cell_type": "markdown",
   "id": "db12f0fd",
   "metadata": {},
   "source": [
    "Preprocessing and Feature Engineering"
   ]
  },
  {
   "cell_type": "code",
   "execution_count": null,
   "id": "04527a1c",
   "metadata": {
    "vscode": {
     "languageId": "plaintext"
    }
   },
   "outputs": [],
   "source": [
    "if df is not None:\n",
    "    # Based on EDA, fraud only occurs in 'TRANSFER' and 'CASH_OUT'\n",
    "    df_filtered = df[df['type'].isin(['CASH_OUT', 'TRANSFER'])].copy()\n",
    "    print(f\"Shape after filtering for transaction types: {df_filtered.shape}\")\n",
    "\n",
    "    # One-hot encode the 'type' column\n",
    "    df_filtered = pd.get_dummies(df_filtered, columns=['type'], prefix='type', drop_first=True)\n",
    "\n",
    "    # Define features (X) and target (y)\n",
    "    X = df_filtered.drop(['isFraud', 'isFlaggedFraud', 'nameOrig', 'nameDest'], axis=1)\n",
    "    y = df_filtered['isFraud']\n",
    "\n",
    "    print(\"\\nFeatures selected for the model:\")\n",
    "    print(X.columns.tolist())\n",
    "    print(f\"\\nFeatures shape: {X.shape}\")\n",
    "    print(f\"Target shape: {y.shape}\")"
   ]
  },
  {
   "cell_type": "markdown",
   "id": "891ceab3",
   "metadata": {},
   "source": [
    "Split Data into Training and Testing Sets"
   ]
  },
  {
   "cell_type": "code",
   "execution_count": null,
   "id": "f4a9c8e5",
   "metadata": {
    "vscode": {
     "languageId": "plaintext"
    }
   },
   "outputs": [],
   "source": [
    "if 'X' in locals():\n",
    "    # Split the data before applying SMOTE\n",
    "    X_train, X_test, y_train, y_test = train_test_split(\n",
    "        X, y, test_size=0.2, random_state=42, stratify=y\n",
    "    )\n",
    "    print(\"Data split into training and testing sets.\")\n",
    "    print(f\"X_train shape: {X_train.shape}\")\n",
    "    print(f\"X_test shape: {X_test.shape}\")"
   ]
  },
  {
   "cell_type": "markdown",
   "id": "ce78dd4b",
   "metadata": {},
   "source": [
    "Handle Class Imbalance with SMOTE"
   ]
  },
  {
   "cell_type": "code",
   "execution_count": null,
   "id": "d596962c",
   "metadata": {
    "vscode": {
     "languageId": "plaintext"
    }
   },
   "outputs": [],
   "source": [
    "if 'X_train' in locals():\n",
    "    print(\"\\nOriginal training set distribution:\")\n",
    "    print(y_train.value_counts())\n",
    "\n",
    "    smote = SMOTE(random_state=42)\n",
    "    X_train_resampled, y_train_resampled = smote.fit_resample(X_train, y_train)\n",
    "\n",
    "    print(\"\\nResampled training set distribution:\")\n",
    "    print(y_train_resampled.value_counts())"
   ]
  },
  {
   "cell_type": "markdown",
   "id": "a0116ae7",
   "metadata": {},
   "source": [
    "Train the XGBoost Model"
   ]
  },
  {
   "cell_type": "code",
   "execution_count": null,
   "id": "cae09e37",
   "metadata": {
    "vscode": {
     "languageId": "plaintext"
    }
   },
   "outputs": [],
   "source": [
    "if 'X_train_resampled' in locals():\n",
    "    # Initialize the XGBoost classifier\n",
    "    # scale_pos_weight is useful for imbalanced classes, but we've used SMOTE.\n",
    "    # We can still use it for extra emphasis on the positive class.\n",
    "    # scale_pos_weight = y_train.value_counts()[0] / y_train.value_counts()[1]\n",
    "    \n",
    "    model = xgb.XGBClassifier(\n",
    "        objective='binary:logistic',\n",
    "        eval_metric='aucpr', # Area Under Precision-Recall Curve\n",
    "        use_label_encoder=False,\n",
    "        random_state=42\n",
    "    )\n",
    "\n",
    "    print(\"\\nTraining the XGBoost model...\")\n",
    "    model.fit(X_train_resampled, y_train_resampled)\n",
    "    print(\"Model training completed.\")\n"
   ]
  },
  {
   "cell_type": "markdown",
   "id": "670a8d03",
   "metadata": {},
   "source": [
    "Evaluate the Model "
   ]
  },
  {
   "cell_type": "code",
   "execution_count": null,
   "id": "fe06047d",
   "metadata": {
    "vscode": {
     "languageId": "plaintext"
    }
   },
   "outputs": [],
   "source": [
    "if 'model' in locals():\n",
    "    print(\"\\nEvaluating model performance on the test set...\")\n",
    "    y_pred = model.predict(X_test)\n",
    "    y_pred_proba = model.predict_proba(X_test)[:, 1]\n",
    "\n",
    "    # Classification Report\n",
    "    print(\"\\nClassification Report:\")\n",
    "    print(classification_report(y_test, y_pred))\n",
    "\n",
    "    # Confusion Matrix\n",
    "    cm = confusion_matrix(y_test, y_pred)\n",
    "    plt.figure(figsize=(8, 6))\n",
    "    sns.heatmap(cm, annot=True, fmt='d', cmap='Blues', \n",
    "                xticklabels=['Not Fraud', 'Fraud'], yticklabels=['Not Fraud', 'Fraud'])\n",
    "    plt.title('Confusion Matrix')\n",
    "    plt.xlabel('Predicted')\n",
    "    plt.ylabel('Actual')\n",
    "    plt.show()\n",
    "\n",
    "    # Precision-Recall Curve\n",
    "    precision, recall, _ = precision_recall_curve(y_test, y_pred_proba)\n",
    "    pr_auc = auc(recall, precision)\n",
    "\n",
    "    plt.figure(figsize=(8, 6))\n",
    "    plt.plot(recall, precision, label=f'PR AUC = {pr_auc:.4f}')\n",
    "    plt.title('Precision-Recall Curve')\n",
    "    plt.xlabel('Recall')\n",
    "    plt.ylabel('Precision')\n",
    "    plt.legend(loc='lower left')\n",
    "    plt.grid(True)\n",
    "    plt.show()\n",
    "\n",
    "    print(f\"\\nArea Under Precision-Recall Curve (PR AUC): {pr_auc:.4f}\")"
   ]
  },
  {
   "cell_type": "markdown",
   "id": "cbff7636",
   "metadata": {},
   "source": [
    "Feature Importance "
   ]
  },
  {
   "cell_type": "code",
   "execution_count": null,
   "id": "66cfbee8",
   "metadata": {
    "vscode": {
     "languageId": "plaintext"
    }
   },
   "outputs": [],
   "source": [
    "if 'model' in locals():\n",
    "    plt.figure(figsize=(12, 8))\n",
    "    xgb.plot_importance(model, height=0.8, max_num_features=10)\n",
    "    plt.title('XGBoost Feature Importance')\n",
    "    plt.show()"
   ]
  },
  {
   "cell_type": "code",
   "execution_count": null,
   "id": "eaa3841b",
   "metadata": {
    "vscode": {
     "languageId": "plaintext"
    }
   },
   "outputs": [],
   "source": [
    "Save the Model"
   ]
  },
  {
   "cell_type": "code",
   "execution_count": null,
   "id": "687118a9",
   "metadata": {
    "vscode": {
     "languageId": "plaintext"
    }
   },
   "outputs": [],
   "source": [
    "if 'model' in locals():\n",
    "    model_path = '../models/xgboost_model.pkl'\n",
    "    joblib.dump(model, model_path)\n",
    "    print(f\"\\nModel saved successfully to {model_path}\")\n",
    "    \n",
    "    # Also save the columns to ensure consistency during prediction\n",
    "    columns_path = '../models/model_columns.pkl'\n",
    "    joblib.dump(X.columns.tolist(), columns_path)\n",
    "    print(f\"Model columns saved successfully to {columns_path}\")"
   ]
  }
 ],
 "metadata": {
  "language_info": {
   "name": "python"
  }
 },
 "nbformat": 4,
 "nbformat_minor": 5
}
