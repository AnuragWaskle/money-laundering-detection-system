{
 "cells": [
  {
   "cell_type": "code",
   "execution_count": 1,
   "id": "11a8c8fc",
   "metadata": {},
   "outputs": [],
   "source": [
    "import pandas as pd\n",
    "import numpy as np\n",
    "import matplotlib.pyplot as plt\n",
    "import seaborn as sns\n",
    "from sklearn.model_selection import train_test_split\n",
    "from sklearn.metrics import classification_report, confusion_matrix\n",
    "from imblearn.over_sampling import SMOTE\n",
    "import xgboost as xgb\n",
    "import joblib\n",
    "import shap"
   ]
  },
  {
   "cell_type": "code",
   "execution_count": 2,
   "id": "2683e81a",
   "metadata": {},
   "outputs": [
    {
     "name": "stdout",
     "output_type": "stream",
     "text": [
      "Libraries imported successfully.\n"
     ]
    }
   ],
   "source": [
    "sns.set_style(\"whitegrid\")\n",
    "print(\"Libraries imported successfully.\")"
   ]
  },
  {
   "cell_type": "markdown",
   "id": "e48aa58e",
   "metadata": {},
   "source": [
    "Load the Dataset"
   ]
  },
  {
   "cell_type": "code",
   "execution_count": null,
   "id": "9af642b4",
   "metadata": {},
   "outputs": [],
   "source": [
    "try:\n",
    "    df = pd.read_csv('../data/raw/PS_20174392719_1491204439457_log.csv')\n",
    "    print(\"Dataset loaded successfully.\")\n",
    "except FileNotFoundError:\n",
    "    print(\"Error: Dataset file not found.\")\n",
    "    df = None"
   ]
  },
  {
   "cell_type": "markdown",
   "id": "db12f0fd",
   "metadata": {},
   "source": [
    "Preprocessing and Feature Engineering"
   ]
  },
  {
   "cell_type": "code",
   "execution_count": null,
   "id": "04527a1c",
   "metadata": {},
   "outputs": [],
   "source": [
    "if df is not None:\n",
    "    df_filtered = df[df['type'].isin(['CASH_OUT', 'TRANSFER'])].copy()\n",
    "    df_filtered = pd.get_dummies(df_filtered, columns=['type'], prefix='type', drop_first=True)\n",
    "    X = df_filtered.drop(['isFraud', 'isFlaggedFraud', 'nameOrig', 'nameDest'], axis=1)\n",
    "    y = df_filtered['isFraud']\n",
    "    print(\"Preprocessing and feature engineering complete.\")\n",
    "\n"
   ]
  },
  {
   "cell_type": "markdown",
   "id": "891ceab3",
   "metadata": {},
   "source": [
    "Split Data into Training and Testing Sets"
   ]
  },
  {
   "cell_type": "code",
   "execution_count": null,
   "id": "f4a9c8e5",
   "metadata": {},
   "outputs": [],
   "source": [
    "if 'X' in locals():\n",
    "    X_train, X_test, y_train, y_test = train_test_split(\n",
    "        X, y, test_size=0.2, random_state=42, stratify=y\n",
    "    )\n",
    "    print(\"Data split complete.\")"
   ]
  },
  {
   "cell_type": "markdown",
   "id": "ce78dd4b",
   "metadata": {},
   "source": [
    "Handle Class Imbalance with SMOTE"
   ]
  },
  {
   "cell_type": "code",
   "execution_count": null,
   "id": "d596962c",
   "metadata": {},
   "outputs": [],
   "source": [
    "if 'X_train' in locals():\n",
    "    print(\"\\nOriginal training set distribution:\\n\", y_train.value_counts())\n",
    "    smote = SMOTE(random_state=42)\n",
    "    X_train_resampled, y_train_resampled = smote.fit_resample(X_train, y_train)\n",
    "    print(\"\\nResampled training set distribution:\\n\", y_train_resampled.value_counts())\n",
    "\n",
    "# Ensure all features are numeric (float64) for SHAP and XGBoost compatibility\n",
    "if 'X_train_resampled' in locals():\n",
    "    X_train_resampled = X_train_resampled.apply(pd.to_numeric, errors='coerce').astype(np.float64)\n",
    "if 'X_test' in locals():\n",
    "    X_test = X_test.apply(pd.to_numeric, errors='coerce').astype(np.float64)\n"
   ]
  },
  {
   "cell_type": "markdown",
   "id": "a0116ae7",
   "metadata": {},
   "source": [
    "Train the XGBoost Model"
   ]
  },
  {
   "cell_type": "code",
   "execution_count": null,
   "id": "cae09e37",
   "metadata": {},
   "outputs": [],
   "source": [
    "if 'X_train_resampled' in locals():\n",
    "    model = xgb.XGBClassifier(\n",
    "        objective='binary:logistic',\n",
    "        eval_metric='aucpr',\n",
    "        use_label_encoder=False,\n",
    "        random_state=42\n",
    "    )\n",
    "    print(\"\\nTraining the XGBoost model...\")\n",
    "    model.fit(X_train_resampled, y_train_resampled)\n",
    "    print(\"Model training completed.\")"
   ]
  },
  {
   "cell_type": "markdown",
   "id": "670a8d03",
   "metadata": {},
   "source": [
    "Evaluate the Model "
   ]
  },
  {
   "cell_type": "code",
   "execution_count": null,
   "id": "fe06047d",
   "metadata": {},
   "outputs": [],
   "source": [
    "if 'model' in locals():\n",
    "    print(\"\\nEvaluating model performance...\")\n",
    "    y_pred = model.predict(X_test)\n",
    "    print(\"\\nClassification Report:\")\n",
    "    print(classification_report(y_test, y_pred))\n"
   ]
  },
  {
   "cell_type": "markdown",
   "id": "cbff7636",
   "metadata": {},
   "source": [
    "Create SHAP Explainer"
   ]
  },
  {
   "cell_type": "code",
   "execution_count": null,
   "id": "66cfbee8",
   "metadata": {},
   "outputs": [],
   "source": [
    "if 'model' in locals():\n",
    "    print(\"\\nCreating SHAP explainer...\")\n",
    "    # We use the resampled training data to create the background distribution for the explainer\n",
    "    explainer = shap.TreeExplainer(model, X_train_resampled)\n",
    "    print(\"SHAP explainer created successfully.\")\n",
    "    \n",
    "    # Optional: Visualize a sample explanation\n",
    "    shap_values = explainer.shap_values(X_test.iloc[:1])\n",
    "    shap.initjs()\n",
    "    display(shap.force_plot(explainer.expected_value, shap_values[0,:], X_test.iloc[0,:]))"
   ]
  },
  {
   "cell_type": "markdown",
   "id": "54327bf6",
   "metadata": {},
   "source": [
    "Save the Model and the Explainer"
   ]
  },
  {
   "cell_type": "code",
   "execution_count": null,
   "id": "687118a9",
   "metadata": {},
   "outputs": [],
   "source": [
    "if 'model' in locals() and 'explainer' in locals():\n",
    "    # Save Model\n",
    "    model_path = '../models/xgboost_model.pkl'\n",
    "    joblib.dump(model, model_path)\n",
    "    print(f\"\\nModel saved successfully to {model_path}\")\n",
    "    \n",
    "    # Save SHAP Explainer\n",
    "    explainer_path = '../models/shap_explainer.pkl'\n",
    "    joblib.dump(explainer, explainer_path)\n",
    "    print(f\"SHAP explainer saved successfully to {explainer_path}\")\n",
    "    \n",
    "    # Save Columns\n",
    "    columns_path = '../models/model_columns.pkl'\n",
    "    joblib.dump(X.columns.tolist(), columns_path)\n",
    "    print(f\"Model columns saved successfully to {columns_path}\")"
   ]
  }
 ],
 "metadata": {
  "kernelspec": {
   "display_name": "Python 3",
   "language": "python",
   "name": "python3"
  },
  "language_info": {
   "codemirror_mode": {
    "name": "ipython",
    "version": 3
   },
   "file_extension": ".py",
   "mimetype": "text/x-python",
   "name": "python",
   "nbconvert_exporter": "python",
   "pygments_lexer": "ipython3",
   "version": "3.12.10"
  }
 },
 "nbformat": 4,
 "nbformat_minor": 5
}
