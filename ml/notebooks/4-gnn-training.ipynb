{
 "cells": [
  {
   "cell_type": "code",
   "execution_count": null,
   "id": "ffb2f15e",
   "metadata": {
    "vscode": {
     "languageId": "plaintext"
    }
   },
   "outputs": [],
   "source": [
    "import pandas as pd\n",
    "import numpy as np\n",
    "import torch\n",
    "import torch.nn.functional as F\n",
    "from torch_geometric.data import Data\n",
    "from torch_geometric.nn import SAGEConv\n",
    "from sklearn.preprocessing import StandardScaler\n",
    "from sklearn.model_selection import train_test_split\n",
    "import joblib\n",
    "\n",
    "print(\"Libraries imported successfully.\")\n",
    "print(f\"PyTorch version: {torch.__version__}\")"
   ]
  },
  {
   "cell_type": "markdown",
   "id": "21f89f4f",
   "metadata": {},
   "source": [
    " Load and Preprocess Data"
   ]
  },
  {
   "cell_type": "code",
   "execution_count": null,
   "id": "6ef2ff3c",
   "metadata": {
    "vscode": {
     "languageId": "plaintext"
    }
   },
   "outputs": [],
   "source": [
    "try:\n",
    "    df = pd.read_csv('../data/raw/PS_20174392719_1491204439457_log.csv')\n",
    "    print(\"Dataset loaded successfully.\")\n",
    "except FileNotFoundError:\n",
    "    print(\"Error: Dataset file not found.\")\n",
    "    df = None\n",
    "\n",
    "if df is not None:\n",
    "    # Use a smaller, balanced sample for faster training in this example\n",
    "    df_fraud = df[df['isFraud'] == 1]\n",
    "    df_normal = df[df['isFraud'] == 0].sample(n=len(df_fraud) * 5, random_state=42)\n",
    "    df_sample = pd.concat([df_fraud, df_normal]).reset_index(drop=True)\n",
    "    print(f\"Using a sample of {len(df_sample)} transactions for GNN training.\")\n"
   ]
  },
  {
   "cell_type": "markdown",
   "id": "5a860500",
   "metadata": {},
   "source": [
    "Construct the Graph"
   ]
  },
  {
   "cell_type": "code",
   "execution_count": null,
   "id": "714d3311",
   "metadata": {
    "vscode": {
     "languageId": "plaintext"
    }
   },
   "outputs": [],
   "source": [
    "if df is not None:\n",
    "    print(\"Constructing graph data structure...\")\n",
    "    \n",
    "    # Create a mapping from account names to integer indices\n",
    "    all_accounts = pd.concat([df_sample['nameOrig'], df_sample['nameDest']]).unique()\n",
    "    account_map = {name: i for i, name in enumerate(all_accounts)}\n",
    "    num_nodes = len(all_accounts)\n",
    "\n",
    "    # Create edge index\n",
    "    source_nodes = df_sample['nameOrig'].map(account_map).values\n",
    "    dest_nodes = df_sample['nameDest'].map(account_map).values\n",
    "    edge_index = torch.tensor([source_nodes, dest_nodes], dtype=torch.long)\n",
    "\n",
    "    # Create edge features (attributes)\n",
    "    edge_features = df_sample[['amount', 'oldbalanceOrg', 'newbalanceOrig', 'oldbalanceDest', 'newbalanceDest']].values\n",
    "    scaler = StandardScaler()\n",
    "    edge_features = scaler.fit_transform(edge_features)\n",
    "    edge_attr = torch.tensor(edge_features, dtype=torch.float)\n",
    "    \n",
    "    # Create node features (using transaction amounts for simplicity)\n",
    "    # A more advanced approach would aggregate features per node\n",
    "    node_features = np.zeros((num_nodes, 1))\n",
    "    df_sample['amount_log'] = np.log1p(df_sample['amount'])\n",
    "    \n",
    "    # Aggregate features for each node (e.g., total amount sent/received)\n",
    "    sender_amounts = df_sample.groupby('nameOrig')['amount_log'].sum()\n",
    "    receiver_amounts = df_sample.groupby('nameDest')['amount_log'].sum()\n",
    "    \n",
    "    for name, idx in account_map.items():\n",
    "        node_features[idx, 0] = sender_amounts.get(name, 0) + receiver_amounts.get(name, 0)\n",
    "\n",
    "    node_features = scaler.fit_transform(node_features)\n",
    "    x = torch.tensor(node_features, dtype=torch.float)\n",
    "\n",
    "    # Create labels (for transactions/edges)\n",
    "    y = torch.tensor(df_sample['isFraud'].values, dtype=torch.float)\n",
    "\n",
    "    # Create the PyG Data object\n",
    "    graph_data = Data(x=x, edge_index=edge_index, edge_attr=edge_attr, y=y)\n",
    "    \n",
    "    print(\"Graph data object created:\")\n",
    "    print(graph_data)\n"
   ]
  },
  {
   "cell_type": "markdown",
   "id": "01484824",
   "metadata": {},
   "source": [
    "Define the GNN Model"
   ]
  },
  {
   "cell_type": "code",
   "execution_count": null,
   "id": "7f2029d0",
   "metadata": {
    "vscode": {
     "languageId": "plaintext"
    }
   },
   "outputs": [],
   "source": [
    "class GNN(torch.nn.Module):\n",
    "    def __init__(self, num_node_features, num_edge_features, hidden_channels):\n",
    "        super(GNN, self).__init__()\n",
    "        self.conv1 = SAGEConv(num_node_features, hidden_channels)\n",
    "        self.conv2 = SAGEConv(hidden_channels, hidden_channels)\n",
    "        # Final layer predicts a single value per edge (transaction)\n",
    "        self.output_layer = torch.nn.Linear(2 * hidden_channels + num_edge_features, 1)\n",
    "\n",
    "    def forward(self, x, edge_index, edge_attr):\n",
    "        # Get node embeddings\n",
    "        x = self.conv1(x, edge_index)\n",
    "        x = x.relu()\n",
    "        x = self.conv2(x, edge_index)\n",
    "\n",
    "        # For each edge, concatenate the source node, dest node, and edge features\n",
    "        source_node_embed = x[edge_index[0]]\n",
    "        dest_node_embed = x[edge_index[1]]\n",
    "        \n",
    "        combined_features = torch.cat([source_node_embed, dest_node_embed, edge_attr], dim=1)\n",
    "        \n",
    "        # Predict\n",
    "        out = self.output_layer(combined_features)\n",
    "        return torch.sigmoid(out).squeeze()\n"
   ]
  },
  {
   "cell_type": "markdown",
   "id": "9feb2a5f",
   "metadata": {},
   "source": [
    "Training the GNN "
   ]
  },
  {
   "cell_type": "code",
   "execution_count": null,
   "id": "98cffe4e",
   "metadata": {
    "vscode": {
     "languageId": "plaintext"
    }
   },
   "outputs": [],
   "source": [
    "if 'graph_data' in locals():\n",
    "    model = GNN(\n",
    "        num_node_features=graph_data.num_node_features,\n",
    "        num_edge_features=graph_data.num_edge_features,\n",
    "        hidden_channels=64\n",
    "    )\n",
    "    optimizer = torch.optim.Adam(model.parameters(), lr=0.01)\n",
    "    criterion = torch.nn.BCELoss() # Binary Cross-Entropy Loss\n",
    "\n",
    "    # Create a mask for training (we're training on edges)\n",
    "    train_mask = torch.ones(graph_data.num_edges, dtype=torch.bool)\n",
    "\n",
    "    print(\"\\nStarting GNN training...\")\n",
    "    for epoch in range(100):\n",
    "        model.train()\n",
    "        optimizer.zero_grad()\n",
    "        out = model(graph_data.x, graph_data.edge_index, graph_data.edge_attr)\n",
    "        loss = criterion(out[train_mask], graph_data.y[train_mask])\n",
    "        loss.backward()\n",
    "        optimizer.step()\n",
    "        if (epoch + 1) % 10 == 0:\n",
    "            print(f'Epoch: {epoch+1:03d}, Loss: {loss:.4f}')\n",
    "    print(\"GNN training completed.\")\n"
   ]
  },
  {
   "cell_type": "markdown",
   "id": "de3852d4",
   "metadata": {},
   "source": [
    "Evaluate the GNN"
   ]
  },
  {
   "cell_type": "code",
   "execution_count": null,
   "id": "b1859031",
   "metadata": {
    "vscode": {
     "languageId": "plaintext"
    }
   },
   "outputs": [],
   "source": [
    "if 'model' in locals():\n",
    "    model.eval()\n",
    "    with torch.no_grad():\n",
    "        out = model(graph_data.x, graph_data.edge_index, graph_data.edge_attr)\n",
    "        preds = (out > 0.5).float()\n",
    "        correct = (preds == graph_data.y).sum()\n",
    "        accuracy = int(correct) / len(graph_data.y)\n",
    "        print(f'\\nGNN Model Accuracy: {accuracy:.4f}')"
   ]
  },
  {
   "cell_type": "markdown",
   "id": "920c0ef4",
   "metadata": {},
   "source": [
    "Save the GNN Model and Artifacts"
   ]
  },
  {
   "cell_type": "code",
   "execution_count": null,
   "id": "bb4c599d",
   "metadata": {
    "vscode": {
     "languageId": "plaintext"
    }
   },
   "outputs": [],
   "source": [
    "if 'model' in locals():\n",
    "    # Save the trained GNN model\n",
    "    model_path = '../models/gnn_model.pt'\n",
    "    torch.save(model.state_dict(), model_path)\n",
    "    print(f\"\\nGNN model saved to {model_path}\")\n",
    "\n",
    "    # Save the account map needed for inference\n",
    "    map_path = '../models/gnn_account_map.pkl'\n",
    "    joblib.dump(account_map, map_path)\n",
    "    print(f\"Account map saved to {map_path}\")\n"
   ]
  }
 ],
 "metadata": {
  "language_info": {
   "name": "python"
  }
 },
 "nbformat": 4,
 "nbformat_minor": 5
}
