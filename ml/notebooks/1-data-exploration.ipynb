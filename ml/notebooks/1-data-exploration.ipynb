{
 "cells": [
  {
   "cell_type": "code",
   "execution_count": null,
   "id": "cbdb28c6",
   "metadata": {
    "vscode": {
     "languageId": "plaintext"
    }
   },
   "outputs": [],
   "source": [
    "import pandas as pd\n",
    "import numpy as np\n",
    "import matplotlib.pyplot as plt\n",
    "import seaborn as sns"
   ]
  },
  {
   "cell_type": "markdown",
   "id": "91a7c643",
   "metadata": {},
   "source": [
    "visualization styles"
   ]
  },
  {
   "cell_type": "code",
   "execution_count": null,
   "id": "1e6fad5f",
   "metadata": {
    "vscode": {
     "languageId": "plaintext"
    }
   },
   "outputs": [],
   "source": [
    "sns.set_style(\"whitegrid\")\n",
    "plt.rcParams['figure.figsize'] = (12, 8)\n",
    "\n",
    "print(\"Libraries imported successfully.\")"
   ]
  },
  {
   "cell_type": "markdown",
   "id": "502a8137",
   "metadata": {},
   "source": [
    "Load the dataset"
   ]
  },
  {
   "cell_type": "code",
   "execution_count": null,
   "id": "aef9c807",
   "metadata": {
    "vscode": {
     "languageId": "plaintext"
    }
   },
   "outputs": [],
   "source": [
    "try:\n",
    "    # Make sure the path points to your raw data file\n",
    "    df = pd.read_csv('../data/raw/PS_20174392719_1491204439457_log.csv')\n",
    "    print(\"Dataset loaded successfully.\")\n",
    "    print(f\"Dataset shape: {df.shape}\")\n",
    "except FileNotFoundError:\n",
    "    print(\"Error: Dataset file not found. Make sure it's in the 'ml/data/raw/' directory.\")"
   ]
  },
  {
   "cell_type": "markdown",
   "id": "d8f02826",
   "metadata": {},
   "source": [
    "Initial Data Overview"
   ]
  },
  {
   "cell_type": "code",
   "execution_count": null,
   "id": "269c4593",
   "metadata": {
    "vscode": {
     "languageId": "plaintext"
    }
   },
   "outputs": [],
   "source": [
    "print(\"First 5 rows of the dataset:\")\n",
    "display(df.head())\n",
    "\n",
    "# Display data types and non-null counts\n",
    "print(\"\\nDataset Info:\")\n",
    "df.info()\n",
    "\n",
    "# Display summary statistics for numerical columns\n",
    "print(\"\\nSummary Statistics:\")\n",
    "display(df.describe())\n"
   ]
  },
  {
   "cell_type": "markdown",
   "id": "23036373",
   "metadata": {},
   "source": [
    "Check for missing values in each column"
   ]
  },
  {
   "cell_type": "code",
   "execution_count": null,
   "id": "1a23339e",
   "metadata": {
    "vscode": {
     "languageId": "plaintext"
    }
   },
   "outputs": [],
   "source": [
    "missing_values = df.isnull().sum()\n",
    "print(\"Missing values per column:\")\n",
    "print(missing_values)\n",
    "\n",
    "if missing_values.sum() == 0:\n",
    "    print(\"\\nGreat! No missing values found in the dataset.\")\n",
    "else:\n",
    "    print(\"\\nWarning: Missing values detected. These will need to be handled.\")"
   ]
  },
  {
   "cell_type": "markdown",
   "id": "0eeae6c5",
   "metadata": {},
   "source": [
    "Analyze Class Distribution (Fraud vs. Non-Fraud)"
   ]
  },
  {
   "cell_type": "code",
   "execution_count": null,
   "id": "6a25f3ca",
   "metadata": {
    "vscode": {
     "languageId": "plaintext"
    }
   },
   "outputs": [],
   "source": [
    "fraud_counts = df['isFraud'].value_counts()\n",
    "fraud_percentage = df['isFraud'].value_counts(normalize=True) * 100\n",
    "\n",
    "print(\"Fraud vs. Non-Fraud Distribution:\")\n",
    "print(fraud_counts)\n",
    "print(f\"\\nPercentage of Fraudulent Transactions: {fraud_percentage[1]:.4f}%\")\n",
    "\n",
    "# Visualize the distribution\n",
    "plt.figure(figsize=(8, 6))\n",
    "sns.countplot(x='isFraud', data=df)\n",
    "plt.title('Distribution of Fraudulent vs. Non-Fraudulent Transactions')\n",
    "plt.xlabel('Is Fraud (0: No, 1: Yes)')\n",
    "plt.ylabel('Number of Transactions')\n",
    "plt.show()\n"
   ]
  },
  {
   "cell_type": "markdown",
   "id": "ac97f815",
   "metadata": {},
   "source": [
    "Explore Transaction Types "
   ]
  },
  {
   "cell_type": "code",
   "execution_count": null,
   "id": "5539b5e9",
   "metadata": {
    "vscode": {
     "languageId": "plaintext"
    }
   },
   "outputs": [],
   "source": [
    "print(\"Transaction Types Distribution:\")\n",
    "print(df['type'].value_counts())\n",
    "\n",
    "# Visualize transaction types\n",
    "plt.figure(figsize=(10, 6))\n",
    "sns.countplot(x='type', data=df, order=df['type'].value_counts().index)\n",
    "plt.title('Distribution of Transaction Types')\n",
    "plt.xlabel('Transaction Type')\n",
    "plt.ylabel('Count')\n",
    "plt.show()\n",
    "\n",
    "# Analyze fraud by transaction type\n",
    "fraud_by_type = df.groupby('type')['isFraud'].sum()\n",
    "print(\"\\nNumber of Fraudulent Transactions by Type:\")\n",
    "print(fraud_by_type)"
   ]
  },
  {
   "cell_type": "markdown",
   "id": "ac5a305a",
   "metadata": {},
   "source": [
    "Explore Numerical Features"
   ]
  },
  {
   "cell_type": "code",
   "execution_count": null,
   "id": "74ab0c82",
   "metadata": {
    "vscode": {
     "languageId": "plaintext"
    }
   },
   "outputs": [],
   "source": [
    "# Analyze the 'amount' column\n",
    "plt.figure(figsize=(14, 6))\n",
    "\n",
    "# Distribution of transaction amounts\n",
    "plt.subplot(1, 2, 1)\n",
    "sns.histplot(df['amount'], bins=50, kde=True)\n",
    "plt.title('Distribution of Transaction Amount')\n",
    "plt.xlabel('Amount')\n",
    "plt.ylabel('Frequency')\n",
    "plt.yscale('log') # Use log scale due to high skew\n",
    "\n",
    "# Boxplot of transaction amounts for fraud vs. non-fraud\n",
    "plt.subplot(1, 2, 2)\n",
    "sns.boxplot(x='isFraud', y='amount', data=df)\n",
    "plt.title('Transaction Amount vs. Fraud')\n",
    "plt.xlabel('Is Fraud')\n",
    "plt.ylabel('Amount')\n",
    "plt.yscale('log')\n",
    "\n",
    "plt.tight_layout()\n",
    "plt.show()\n",
    "\n",
    "print(\"Observations on 'amount':\")\n",
    "print(df[['amount', 'isFraud']].groupby('isFraud').describe())\n",
    "\n"
   ]
  },
  {
   "cell_type": "markdown",
   "id": "7c231b83",
   "metadata": {},
   "source": [
    " Correlation Analysis"
   ]
  },
  {
   "cell_type": "code",
   "execution_count": null,
   "id": "a1528714",
   "metadata": {
    "vscode": {
     "languageId": "plaintext"
    }
   },
   "outputs": [],
   "source": [
    "# Select only numerical columns for correlation matrix\n",
    "numerical_df = df.select_dtypes(include=np.number)\n",
    "\n",
    "# Calculate the correlation matrix\n",
    "corr_matrix = numerical_df.corr()\n",
    "\n",
    "# Plot the heatmap\n",
    "plt.figure(figsize=(15, 12))\n",
    "sns.heatmap(corr_matrix, annot=True, fmt='.2f', cmap='coolwarm', linewidths=.5)\n",
    "plt.title('Correlation Matrix of Numerical Features')\n",
    "plt.show()\n"
   ]
  }
 ],
 "metadata": {
  "language_info": {
   "name": "python"
  }
 },
 "nbformat": 4,
 "nbformat_minor": 5
}
