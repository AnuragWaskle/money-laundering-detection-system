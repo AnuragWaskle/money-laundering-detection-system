{
 "cells": [
  {
   "cell_type": "code",
   "execution_count": 31,
   "id": "f43f7788",
   "metadata": {},
   "outputs": [
    {
     "name": "stdout",
     "output_type": "stream",
     "text": [
      "Libraries imported successfully.\n"
     ]
    }
   ],
   "source": [
    "import pandas as pd\n",
    "from py2neo import Graph, Node, Relationship\n",
    "\n",
    "print(\"Libraries imported successfully.\")"
   ]
  },
  {
   "cell_type": "markdown",
   "id": "c82504ee",
   "metadata": {},
   "source": [
    " Connect to Neo4j Database"
   ]
  },
  {
   "cell_type": "code",
   "execution_count": 32,
   "id": "2761be9e",
   "metadata": {},
   "outputs": [
    {
     "name": "stdout",
     "output_type": "stream",
     "text": [
      "Successfully connected to Neo4j database.\n"
     ]
    }
   ],
   "source": [
    "# IMPORTANT: Make sure your Neo4j database is running before executing this cell.\n",
    "# You can start it with: docker-compose up -d\n",
    "try:\n",
    "    graph = Graph(\"bolt://localhost:7687\", auth=(\"neo4j\", \"password\"))\n",
    "    # Test the connection\n",
    "    graph.run(\"RETURN 1\")\n",
    "    print(\"Successfully connected to Neo4j database.\")\n",
    "except Exception as e:\n",
    "    print(f\"Failed to connect to Neo4j. Please ensure the database is running.\")\n",
    "    print(f\"Error: {e}\")\n",
    "    graph = None\n"
   ]
  },
  {
   "cell_type": "markdown",
   "id": "5d569151",
   "metadata": {},
   "source": [
    "Load and Sample Data for Ingestion"
   ]
  },
  {
   "cell_type": "code",
   "execution_count": 33,
   "id": "69c9a8ab",
   "metadata": {},
   "outputs": [
    {
     "name": "stdout",
     "output_type": "stream",
     "text": [
      "Dataset loaded and sampled.\n",
      "Sampled dataset shape: (28213, 11)\n"
     ]
    }
   ],
   "source": [
    "if graph is not None:\n",
    "    try:\n",
    "        df = pd.read_csv('../data/raw/PS_20174392719_1491204439457_log.csv')\n",
    "        # Filter for transaction types that are part of the graph\n",
    "        df_graph = df[df['type'].isin(['CASH_OUT', 'TRANSFER'])].copy()\n",
    "        \n",
    "        # Take a smaller sample for faster ingestion in this notebook\n",
    "        # We'll use fraudulent transactions and some legitimate ones for context\n",
    "        df_fraud = df_graph[df_graph['isFraud'] == 1]\n",
    "        df_normal_sample = df_graph[df_graph['isFraud'] == 0].sample(n=20000, random_state=42)\n",
    "        df_sample = pd.concat([df_fraud, df_normal_sample]).reset_index(drop=True)\n",
    "\n",
    "        print(\"Dataset loaded and sampled.\")\n",
    "        print(f\"Sampled dataset shape: {df_sample.shape}\")\n",
    "    except FileNotFoundError:\n",
    "        print(\"Error: Dataset file not found.\")\n",
    "        df_sample = None\n"
   ]
  },
  {
   "cell_type": "markdown",
   "id": "20b40f57",
   "metadata": {},
   "source": [
    "Clear Existing Graph Data (Optional)"
   ]
  },
  {
   "cell_type": "code",
   "execution_count": 34,
   "id": "7ec8bc27",
   "metadata": {},
   "outputs": [
    {
     "name": "stdout",
     "output_type": "stream",
     "text": [
      "Clearing any existing data from the graph...\n",
      "Graph cleared.\n"
     ]
    }
   ],
   "source": [
    "if graph is not None:\n",
    "    print(\"Clearing any existing data from the graph...\")\n",
    "    graph.run(\"MATCH (n) DETACH DELETE n\")\n",
    "    print(\"Graph cleared.\")\n"
   ]
  },
  {
   "cell_type": "markdown",
   "id": "8f87d8db",
   "metadata": {},
   "source": [
    "Create Constraints for Performance"
   ]
  },
  {
   "cell_type": "code",
   "execution_count": 35,
   "id": "4b9428ee",
   "metadata": {},
   "outputs": [
    {
     "name": "stdout",
     "output_type": "stream",
     "text": [
      "Creating unique constraint on Account ID...\n",
      "Constraint created successfully.\n"
     ]
    }
   ],
   "source": [
    "if graph is not None:\n",
    "    print(\"Creating unique constraint on Account ID...\")\n",
    "    try:\n",
    "        graph.run(\"CREATE CONSTRAINT ON (a:Account) ASSERT a.id IS UNIQUE\")\n",
    "        print(\"Constraint created successfully.\")\n",
    "    except Exception as e:\n",
    "        print(f\"Constraint might already exist: {e}\")"
   ]
  },
  {
   "cell_type": "markdown",
   "id": "bf8919a1",
   "metadata": {},
   "source": [
    "Ingest Data into Neo4j"
   ]
  },
  {
   "cell_type": "code",
   "execution_count": null,
   "id": "37a8de49",
   "metadata": {},
   "outputs": [
    {
     "name": "stdout",
     "output_type": "stream",
     "text": [
      "Starting data ingestion into Neo4j...\n"
     ]
    }
   ],
   "source": [
    "if graph is not None and df_sample is not None:\n",
    "    print(\"Starting data ingestion into Neo4j...\")\n",
    "    # Using a transaction for atomicity\n",
    "    tx = graph.begin()\n",
    "    \n",
    "    for index, row in df_sample.iterrows():\n",
    "        sender_id = row['nameOrig']\n",
    "        receiver_id = row['nameDest']\n",
    "        \n",
    "        # Using MERGE to avoid creating duplicate nodes\n",
    "        sender_node = Node(\"Account\", id=sender_id)\n",
    "        tx.merge(sender_node, \"Account\", \"id\")\n",
    "        \n",
    "        receiver_node = Node(\"Account\", id=receiver_id)\n",
    "        tx.merge(receiver_node, \"Account\", \"id\")\n",
    "        \n",
    "        # Create the relationship representing the transaction\n",
    "        transaction_rel = Relationship(\n",
    "            sender_node, \n",
    "            row['type'], # Relationship type is 'CASH_OUT' or 'TRANSFER'\n",
    "            receiver_node,\n",
    "            amount=row['amount'],\n",
    "            step=row['step'],\n",
    "            isFraud=bool(row['isFraud'])\n",
    "        )\n",
    "        tx.create(transaction_rel)\n",
    "        \n",
    "    tx.commit()\n",
    "    print(f\"Successfully ingested {len(df_sample)} transactions into Neo4j.\")\n"
   ]
  },
  {
   "cell_type": "markdown",
   "id": "bf9e263e",
   "metadata": {},
   "source": [
    "Basic Graph Queries for Verification"
   ]
  },
  {
   "cell_type": "code",
   "execution_count": null,
   "id": "aa0d2508",
   "metadata": {},
   "outputs": [],
   "source": [
    "if graph is not None:\n",
    "    # Count nodes\n",
    "    node_count = graph.run(\"MATCH (n:Account) RETURN count(n) AS count\").data()[0]['count']\n",
    "    print(f\"\\nTotal number of Account nodes in the graph: {node_count}\")\n",
    "\n",
    "    # Count relationships\n",
    "    rel_count = graph.run(\"MATCH ()-[r]->() RETURN count(r) AS count\").data()[0]['count']\n",
    "    print(f\"Total number of relationships (transactions) in the graph: {rel_count}\")\n"
   ]
  },
  {
   "cell_type": "markdown",
   "id": "3d8f92bb",
   "metadata": {},
   "source": [
    " Pattern Detection - Finding Circular Transactions (Cycles)"
   ]
  },
  {
   "cell_type": "code",
   "execution_count": null,
   "id": "29c4c85d",
   "metadata": {},
   "outputs": [],
   "source": [
    "if graph is not None:\n",
    "    print(\"\\nSearching for circular transaction patterns (money laundering cycles)...\")\n",
    "    \n",
    "    # This query finds paths of length 3 that start and end at the same account\n",
    "    cycle_query = \"\"\"\n",
    "    MATCH p=(a:Account)-[*3..5]->(a)\n",
    "    RETURN p, length(p) as pathLength\n",
    "    LIMIT 10\n",
    "    \"\"\"\n",
    "    \n",
    "    results = graph.run(cycle_query).data()\n",
    "    \n",
    "    if not results:\n",
    "        print(\"No circular transaction paths of length 3-5 found in the sampled data.\")\n",
    "    else:\n",
    "        print(f\"Found {len(results)} potential money laundering cycles:\")\n",
    "        for record in results:\n",
    "            path = record['p']\n",
    "            print(f\"  - Cycle of length {record['pathLength']} involving account {path.start_node['id']}\")\n"
   ]
  },
  {
   "cell_type": "markdown",
   "id": "56faa0eb",
   "metadata": {},
   "source": [
    "Pattern Detection - Identifying \"Smurfing\" (Fan-Out)"
   ]
  },
  {
   "cell_type": "code",
   "execution_count": null,
   "id": "9d0ca295",
   "metadata": {},
   "outputs": [],
   "source": [
    "if graph is not None:\n",
    "    print(\"\\nSearching for 'fan-out' patterns (one account sending to many)...\")\n",
    "    \n",
    "    # This query finds accounts that have sent money to more than 10 other accounts\n",
    "    fan_out_query = \"\"\"\n",
    "    MATCH (a:Account)-[r:TRANSFER]->(b:Account)\n",
    "    WITH a, count(r) AS transactions\n",
    "    WHERE transactions > 10\n",
    "    RETURN a.id AS accountId, transactions\n",
    "    ORDER BY transactions DESC\n",
    "    LIMIT 10\n",
    "    \"\"\"\n",
    "    results = graph.run(fan_out_query).data()\n",
    "    \n",
    "    if not results:\n",
    "        print(\"No significant fan-out patterns found.\")\n",
    "    else:\n",
    "        print(f\"Found {len(results)} accounts with potential 'smurfing' activity:\")\n",
    "        for record in results:\n",
    "            print(f\"  - Account {record['accountId']} made {record['transactions']} outgoing transfers.\")\n"
   ]
  }
 ],
 "metadata": {
  "kernelspec": {
   "display_name": "Python 3",
   "language": "python",
   "name": "python3"
  },
  "language_info": {
   "codemirror_mode": {
    "name": "ipython",
    "version": 3
   },
   "file_extension": ".py",
   "mimetype": "text/x-python",
   "name": "python",
   "nbconvert_exporter": "python",
   "pygments_lexer": "ipython3",
   "version": "3.12.10"
  }
 },
 "nbformat": 4,
 "nbformat_minor": 5
}
